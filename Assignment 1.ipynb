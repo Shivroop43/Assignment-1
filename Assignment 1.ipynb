{
 "cells": [
  {
   "cell_type": "markdown",
   "id": "3c54da91",
   "metadata": {},
   "source": [
    "Q1. What are the characteristics of the tuples? Is tuple immutable?"
   ]
  },
  {
   "cell_type": "markdown",
   "id": "1cf52756",
   "metadata": {},
   "source": [
    "Ans. Characteristics of the tuples - They are indexed,\n",
    "Tuples are ordered,\n",
    "They can contain duplicate items\n",
    "- Tuples are immutable"
   ]
  },
  {
   "cell_type": "markdown",
   "id": "c52f1543",
   "metadata": {},
   "source": [
    "Q2. What are the two tuple methods in python? Give an example of each method. Give a reason why\n",
    "tuples have only two in-built methods as compared to Lists."
   ]
  },
  {
   "cell_type": "markdown",
   "id": "f4c15907",
   "metadata": {},
   "source": [
    "Ans. The two tuple methods in python are:\n",
    "    1. count() = returns count of the element in the tuple\n",
    "    2. index() = returns the index of the element in the tuple\n",
    "In Python, tuples are immutables. Meaning, you cannot change items of a tuple once it is assigned."
   ]
  },
  {
   "cell_type": "code",
   "execution_count": 2,
   "id": "09203c78",
   "metadata": {},
   "outputs": [
    {
     "data": {
      "text/plain": [
       "3"
      ]
     },
     "execution_count": 2,
     "metadata": {},
     "output_type": "execute_result"
    }
   ],
   "source": [
    "# example for count()\n",
    "tup1 = (1,2,3,4,5,5,6,6,6)\n",
    "tup1.count(6)"
   ]
  },
  {
   "cell_type": "code",
   "execution_count": 4,
   "id": "a3b21676",
   "metadata": {},
   "outputs": [
    {
     "data": {
      "text/plain": [
       "4"
      ]
     },
     "execution_count": 4,
     "metadata": {},
     "output_type": "execute_result"
    }
   ],
   "source": [
    "# example for index()\n",
    "tup1 = (1,2,3,4,5,5,6,6,6)\n",
    "tup1.index(5)"
   ]
  },
  {
   "cell_type": "markdown",
   "id": "dcccca9f",
   "metadata": {},
   "source": [
    "Q3. Which collection datatypes in python do not allow duplicate items? Write a code using a set to remove\n",
    "duplicates from the given list.\n",
    "List = [1, 1, 1, 2, 1, 3, 1, 4, 2, 1, 2, 2, 2, 3, 2, 4, 3, 1, 3, 2, 3, 3, 3, 4, 4, 1, 4, 2, 4, 3, 4, 4]"
   ]
  },
  {
   "cell_type": "markdown",
   "id": "a54fc2db",
   "metadata": {},
   "source": [
    "Ans. Sets collection datatypes in python do not allow duplicate items. No duplicate members. "
   ]
  },
  {
   "cell_type": "code",
   "execution_count": 7,
   "id": "b6a28d39",
   "metadata": {},
   "outputs": [
    {
     "data": {
      "text/plain": [
       "{1, 2, 3, 4}"
      ]
     },
     "execution_count": 7,
     "metadata": {},
     "output_type": "execute_result"
    }
   ],
   "source": [
    "List = [1, 1, 1, 2, 1, 3, 1, 4, 2, 1, 2, 2, 2, 3, 2, 4, 3, 1, 3, 2, 3, 3, 3, 4, 4, 1, 4, 2, 4, 3, 4, 4]\n",
    "List = set(List)\n",
    "List"
   ]
  },
  {
   "cell_type": "markdown",
   "id": "92645ec6",
   "metadata": {},
   "source": [
    "Q4. Explain the difference between the union() and update() methods for a set. Give an example of\n",
    "each method."
   ]
  },
  {
   "cell_type": "markdown",
   "id": "8815419a",
   "metadata": {},
   "source": [
    "Ans. set.update() adds the elements to the sets whereas set.union() creates a new set by adding different sets."
   ]
  },
  {
   "cell_type": "code",
   "execution_count": 10,
   "id": "e38832f6",
   "metadata": {},
   "outputs": [
    {
     "data": {
      "text/plain": [
       "{1, 2, 3, 4, 5, 6, 7, 8, 9, 99}"
      ]
     },
     "execution_count": 10,
     "metadata": {},
     "output_type": "execute_result"
    }
   ],
   "source": [
    "# update()\n",
    "set1 = {1,2,3,4,5,6,7,8,9}\n",
    "set1.update({99})\n",
    "set1"
   ]
  },
  {
   "cell_type": "code",
   "execution_count": 11,
   "id": "656d67ec",
   "metadata": {},
   "outputs": [
    {
     "data": {
      "text/plain": [
       "{1, 2, 3, 4, 5, 6, 7, 8, 9, 22, 33, 44, 55, 66}"
      ]
     },
     "execution_count": 11,
     "metadata": {},
     "output_type": "execute_result"
    }
   ],
   "source": [
    "# union()\n",
    "set1 = {1,2,3,4,5,6,7,8,9}\n",
    "set2 = {22,33,44,55,66}\n",
    "set1.union(set2)"
   ]
  },
  {
   "cell_type": "markdown",
   "id": "192d3343",
   "metadata": {},
   "source": [
    "Q5. What is a dictionary? Give an example. Also, state whether a dictionary is ordered or unordered."
   ]
  },
  {
   "cell_type": "markdown",
   "id": "106ec2d8",
   "metadata": {},
   "source": [
    "Ans. Dictionaries are used to store data values in key:value pairs. Dictionaries are ordered. "
   ]
  },
  {
   "cell_type": "code",
   "execution_count": 18,
   "id": "079dc803",
   "metadata": {},
   "outputs": [
    {
     "data": {
      "text/plain": [
       "'shivroop'"
      ]
     },
     "execution_count": 18,
     "metadata": {},
     "output_type": "execute_result"
    }
   ],
   "source": [
    "# dictionary\n",
    "dic1 = {'name':'shivroop','age':'22'}\n",
    "dic1['name']"
   ]
  },
  {
   "cell_type": "markdown",
   "id": "0d85b5a1",
   "metadata": {},
   "source": [
    "Q6. Can we create a nested dictionary? If so, please give an example by creating a simple one-level\n",
    "nested dictionary."
   ]
  },
  {
   "cell_type": "markdown",
   "id": "f6e08ed5",
   "metadata": {},
   "source": [
    "Ans. Yes we can create a nested dictionary. "
   ]
  },
  {
   "cell_type": "code",
   "execution_count": 23,
   "id": "ea3e2dc1",
   "metadata": {},
   "outputs": [],
   "source": [
    "dict1 = {'name':'shivroop','age':'22','education':{'degree':'B.Tech'}}"
   ]
  },
  {
   "cell_type": "markdown",
   "id": "40a00b2f",
   "metadata": {},
   "source": [
    "Q7. Using setdefault() method, create key named topics in the given dictionary and also add the value of\n",
    "the key as this list ['Python', 'Machine Learning’, 'Deep Learning']"
   ]
  },
  {
   "cell_type": "code",
   "execution_count": 47,
   "id": "50819428",
   "metadata": {},
   "outputs": [
    {
     "name": "stdout",
     "output_type": "stream",
     "text": [
      "{'language': 'Python', 'course': 'Data Science Masters', 'topics': \"['Python', 'Machine Learning’, 'Deep Learning']\"}\n"
     ]
    }
   ],
   "source": [
    "dict1 = {'language' : 'Python', 'course': 'Data Science Masters'}\n",
    "dict1.setdefault(\"topics\",\"['Python', 'Machine Learning’, 'Deep Learning']\")\n",
    "print(dict1)"
   ]
  },
  {
   "cell_type": "markdown",
   "id": "b823a297",
   "metadata": {},
   "source": [
    "Q8. What are the three view objects in dictionaries? Use the three in-built methods in python to display\n",
    "these three view objects for the given dictionary.\n",
    "dict1 = {'Sport': 'Cricket' , 'Teams': ['India', 'Australia', 'England', 'South Africa', 'Sri Lanka', 'New Zealand']}"
   ]
  },
  {
   "cell_type": "markdown",
   "id": "1d56d69f",
   "metadata": {},
   "source": [
    "Ans. The main view objects of dictionary in python are keys, values and items."
   ]
  },
  {
   "cell_type": "code",
   "execution_count": 50,
   "id": "ecbaf0fb",
   "metadata": {},
   "outputs": [
    {
     "name": "stdout",
     "output_type": "stream",
     "text": [
      "dict_items([('Sport', 'Cricket'), ('Teams', ['India', 'Australia', 'England', 'South Africa', 'Sri Lanka', 'New Zealand'])])\n",
      "dict_values(['Cricket', ['India', 'Australia', 'England', 'South Africa', 'Sri Lanka', 'New Zealand']])\n",
      "dict_keys(['Sport', 'Teams'])\n"
     ]
    }
   ],
   "source": [
    "dict1 = {'Sport': 'Cricket' , 'Teams': ['India', 'Australia', 'England', 'South Africa', 'Sri Lanka', 'New Zealand']}\n",
    "print(dict1.items())\n",
    "print(dict1.values())\n",
    "print(dict1.keys())"
   ]
  }
 ],
 "metadata": {
  "kernelspec": {
   "display_name": "Python 3 (ipykernel)",
   "language": "python",
   "name": "python3"
  },
  "language_info": {
   "codemirror_mode": {
    "name": "ipython",
    "version": 3
   },
   "file_extension": ".py",
   "mimetype": "text/x-python",
   "name": "python",
   "nbconvert_exporter": "python",
   "pygments_lexer": "ipython3",
   "version": "3.9.12"
  }
 },
 "nbformat": 4,
 "nbformat_minor": 5
}
